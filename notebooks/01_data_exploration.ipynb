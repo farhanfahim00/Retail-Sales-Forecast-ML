{
 "cells": [
  {
   "cell_type": "code",
   "execution_count": 52,
   "id": "16dc1f76-eca2-46eb-90fd-284e5c7e58b3",
   "metadata": {},
   "outputs": [
    {
     "name": "stdout",
     "output_type": "stream",
     "text": [
      "<class 'pandas.core.frame.DataFrame'>\n",
      "RangeIndex: 700 entries, 0 to 699\n",
      "Data columns (total 16 columns):\n",
      " #   Column                 Non-Null Count  Dtype \n",
      "---  ------                 --------------  ----- \n",
      " 0   Segment                700 non-null    object\n",
      " 1   Country                700 non-null    object\n",
      " 2    Product               700 non-null    object\n",
      " 3    Discount Band         700 non-null    object\n",
      " 4    Units Sold            700 non-null    object\n",
      " 5    Manufacturing Price   700 non-null    object\n",
      " 6    Sale Price            700 non-null    object\n",
      " 7    Gross Sales           700 non-null    object\n",
      " 8    Discounts             700 non-null    object\n",
      " 9     Sales                700 non-null    object\n",
      " 10   COGS                  700 non-null    object\n",
      " 11   Profit                700 non-null    object\n",
      " 12  Date                   700 non-null    object\n",
      " 13  Month Number           700 non-null    int64 \n",
      " 14   Month Name            700 non-null    object\n",
      " 15  Year                   700 non-null    int64 \n",
      "dtypes: int64(2), object(14)\n",
      "memory usage: 87.6+ KB\n"
     ]
    }
   ],
   "source": [
    "import pandas as pd\n",
    "import numpy as np\n",
    "df = pd.read_csv('/Users/farhanfahim/Documents/Retail-Sales-Forecast-ML/data/raw/financials.csv')\n",
    "df.head()\n",
    "df.info()"
   ]
  },
  {
   "cell_type": "code",
   "execution_count": 55,
   "id": "31d52f5a-d033-409a-9e63-d33db592e891",
   "metadata": {},
   "outputs": [
    {
     "data": {
      "text/plain": [
       "['Segment',\n",
       " 'Country',\n",
       " ' Product ',\n",
       " ' Discount Band ',\n",
       " ' Units Sold ',\n",
       " ' Manufacturing Price ',\n",
       " ' Sale Price ',\n",
       " ' Gross Sales ',\n",
       " ' Discounts ',\n",
       " '  Sales ',\n",
       " ' COGS ',\n",
       " ' Profit ',\n",
       " 'Date',\n",
       " 'Month Number',\n",
       " ' Month Name ',\n",
       " 'Year']"
      ]
     },
     "execution_count": 55,
     "metadata": {},
     "output_type": "execute_result"
    }
   ],
   "source": [
    "df.columns.tolist()"
   ]
  },
  {
   "cell_type": "code",
   "execution_count": 56,
   "id": "9195dc37-9f49-4523-b1e6-0dd847bdeca1",
   "metadata": {},
   "outputs": [
    {
     "name": "stdout",
     "output_type": "stream",
     "text": [
      "0     $1,618.50 \n",
      "1     $1,321.00 \n",
      "2     $2,178.00 \n",
      "3       $888.00 \n",
      "4     $2,470.00 \n",
      "Name:  Units Sold , dtype: object\n",
      "0     $32,370.00 \n",
      "1     $26,420.00 \n",
      "2     $32,670.00 \n",
      "3     $13,320.00 \n",
      "4     $37,050.00 \n",
      "Name:   Sales , dtype: object\n"
     ]
    }
   ],
   "source": [
    "print(df[' Units Sold '].head())\n",
    "print(df['  Sales '].head())"
   ]
  },
  {
   "cell_type": "code",
   "execution_count": 10,
   "id": "022fdca9-118d-4da4-ae38-e9b0c07a07b0",
   "metadata": {},
   "outputs": [
    {
     "data": {
      "text/plain": [
       "0   NaN\n",
       "1   NaN\n",
       "2   NaN\n",
       "3   NaN\n",
       "4   NaN\n",
       "Name:   Sales , dtype: float64"
      ]
     },
     "execution_count": 10,
     "metadata": {},
     "output_type": "execute_result"
    }
   ],
   "source": [
    "pd.to_numeric(df['  Sales '], errors='coerce').head()"
   ]
  },
  {
   "cell_type": "code",
   "execution_count": 57,
   "id": "977f0ac4-14e2-433f-aae8-184411a9d90f",
   "metadata": {},
   "outputs": [
    {
     "name": "stdout",
     "output_type": "stream",
     "text": [
      "Index(['Segment', 'Country', 'Product', 'Discount Band', 'Units Sold',\n",
      "       'Manufacturing Price', 'Sale Price', 'Gross Sales', 'Discounts',\n",
      "       'Sales', 'COGS', 'Profit', 'Date', 'Month Number', 'Month Name',\n",
      "       'Year'],\n",
      "      dtype='object')\n",
      "0    32370.0\n",
      "1    26420.0\n",
      "2    32670.0\n",
      "3    13320.0\n",
      "4    37050.0\n",
      "Name: Sales, dtype: float64\n"
     ]
    }
   ],
   "source": [
    "# cleaning step 1 (removing trailing spaces from ALL column names)\n",
    "for col in df.columns:\n",
    "    df.columns = df.columns.str.strip()\n",
    "\n",
    "# cleaning step 2 (removing $ and , then converting to float)\n",
    "df['Sales'] = df['Sales'].astype(str)\n",
    "df['Sales'] = df['Sales'].str.replace('$', '', regex=False)\n",
    "df['Sales'] = df['Sales'].str.replace(',', '', regex=False)\n",
    "df['Sales'] = df['Sales'].astype(float)\n",
    "\n",
    "print(df.columns)\n",
    "print(df.Sales.head())"
   ]
  },
  {
   "cell_type": "code",
   "execution_count": 58,
   "id": "b507040a-1202-4aa5-a2bf-81532e1ab5f1",
   "metadata": {},
   "outputs": [],
   "source": [
    "# cleaning step 3 (removing $ and , then converting to float for all price columns)\n",
    "def clean_currency_column(df, column_name):\n",
    "    df[column_name] = df[column_name].astype(str)\n",
    "    df[column_name] = df[column_name].str.replace('$', '', regex=False)\n",
    "    df[column_name] = df[column_name].str.replace(',', '', regex=False)\n",
    "    df[column_name] = pd.to_numeric(df[column_name], errors='coerce')\n",
    "    \n",
    "clean_currency_column(df, 'Units Sold')\n",
    "clean_currency_column(df, 'Manufacturing Price')\n",
    "clean_currency_column(df, 'Sale Price')\n",
    "clean_currency_column(df, 'Gross Sales')\n",
    "clean_currency_column(df, 'Discounts')\n",
    "clean_currency_column(df, 'COGS')\n",
    "clean_currency_column(df, 'Profit')"
   ]
  },
  {
   "cell_type": "code",
   "execution_count": 59,
   "id": "603539c6-b6a0-4a42-b46e-b2405b1cf0c9",
   "metadata": {},
   "outputs": [
    {
     "name": "stdout",
     "output_type": "stream",
     "text": [
      "0    01/01/2014\n",
      "1    01/01/2014\n",
      "2    01/06/2014\n",
      "3    01/06/2014\n",
      "4    01/06/2014\n",
      "Name: Date, dtype: object\n",
      "<class 'pandas.core.frame.DataFrame'>\n",
      "RangeIndex: 700 entries, 0 to 699\n",
      "Data columns (total 16 columns):\n",
      " #   Column               Non-Null Count  Dtype         \n",
      "---  ------               --------------  -----         \n",
      " 0   Segment              700 non-null    object        \n",
      " 1   Country              700 non-null    object        \n",
      " 2   Product              700 non-null    object        \n",
      " 3   Discount Band        700 non-null    object        \n",
      " 4   Units Sold           700 non-null    float64       \n",
      " 5   Manufacturing Price  700 non-null    float64       \n",
      " 6   Sale Price           700 non-null    float64       \n",
      " 7   Gross Sales          700 non-null    float64       \n",
      " 8   Discounts            647 non-null    float64       \n",
      " 9   Sales                700 non-null    float64       \n",
      " 10  COGS                 700 non-null    float64       \n",
      " 11  Profit               637 non-null    float64       \n",
      " 12  Date                 700 non-null    datetime64[ns]\n",
      " 13  Month Number         700 non-null    int64         \n",
      " 14  Month Name           700 non-null    object        \n",
      " 15  Year                 700 non-null    int64         \n",
      "dtypes: datetime64[ns](1), float64(8), int64(2), object(5)\n",
      "memory usage: 87.6+ KB\n"
     ]
    }
   ],
   "source": [
    "# Changing date column into correct format\n",
    "print(df['Date'].head())\n",
    "df['Date'] = pd.to_datetime(df['Date'])\n",
    "df.info()"
   ]
  },
  {
   "cell_type": "code",
   "execution_count": 60,
   "id": "f1d4526f-3519-4fd9-afce-b82f0a8371a9",
   "metadata": {},
   "outputs": [
    {
     "name": "stdout",
     "output_type": "stream",
     "text": [
      "Sales calculation is correct: False\n",
      "Profit calculation is correct: False\n"
     ]
    }
   ],
   "source": [
    "# Making Buisness Sense\n",
    "# Checking if Sales = Gross Sales - Discounts\n",
    "sales_check = (df['Sales'] == df['Gross Sales'] - df['Discounts']).all()\n",
    "print(f\"Sales calculation is correct: {sales_check}\")\n",
    "\n",
    "# Check if Profit = Sales - COGS\n",
    "profit_check = (df['Profit'] == df['Sales'] - df['COGS']).all()\n",
    "print(f\"Profit calculation is correct: {profit_check}\")"
   ]
  },
  {
   "cell_type": "code",
   "execution_count": 61,
   "id": "dc686244-f928-44d6-a322-bc78cd08ea16",
   "metadata": {},
   "outputs": [
    {
     "data": {
      "text/plain": [
       "np.False_"
      ]
     },
     "execution_count": 61,
     "metadata": {},
     "output_type": "execute_result"
    }
   ],
   "source": [
    "# Checking with tolerance for floating point errors\n",
    "np.isclose(df['Sales'], df['Gross Sales'] - df['Discounts']).all()"
   ]
  },
  {
   "cell_type": "code",
   "execution_count": 62,
   "id": "82aac276-caf7-4620-aebd-39d63c94845d",
   "metadata": {},
   "outputs": [
    {
     "name": "stdout",
     "output_type": "stream",
     "text": [
      "   Gross Sales  Discounts     Sales      COGS    Profit  Calculated_Sales  \\\n",
      "0      32370.0        NaN   32370.0   16185.0   16185.0               NaN   \n",
      "1      26420.0        NaN   26420.0   13210.0   13210.0               NaN   \n",
      "2      32670.0        NaN   32670.0   21780.0   10890.0               NaN   \n",
      "3      13320.0        NaN   13320.0    8880.0    4440.0               NaN   \n",
      "4      37050.0        NaN   37050.0   24700.0   12350.0               NaN   \n",
      "5     529550.0        NaN  529550.0  393380.0  136170.0               NaN   \n",
      "6      13815.0        NaN   13815.0    9210.0    4605.0               NaN   \n",
      "7      30216.0        NaN   30216.0    7554.0   22662.0               NaN   \n",
      "8      37980.0        NaN   37980.0   18990.0   18990.0               NaN   \n",
      "9      18540.0        NaN   18540.0    4635.0   13905.0               NaN   \n",
      "\n",
      "   Sales_Difference  Calculated_Profit  Profit_Difference  \n",
      "0               NaN            16185.0                0.0  \n",
      "1               NaN            13210.0                0.0  \n",
      "2               NaN            10890.0                0.0  \n",
      "3               NaN             4440.0                0.0  \n",
      "4               NaN            12350.0                0.0  \n",
      "5               NaN           136170.0                0.0  \n",
      "6               NaN             4605.0                0.0  \n",
      "7               NaN            22662.0                0.0  \n",
      "8               NaN            18990.0                0.0  \n",
      "9               NaN            13905.0                0.0  \n"
     ]
    }
   ],
   "source": [
    "# Creating a comparison dataframe (to know more about the missing values)\n",
    "comparison = df[['Gross Sales', 'Discounts', 'Sales', 'COGS', 'Profit']].head(10)\n",
    "comparison['Calculated_Sales'] = comparison['Gross Sales'] - comparison['Discounts']\n",
    "comparison['Sales_Difference'] = comparison['Sales'] - comparison['Calculated_Sales']\n",
    "comparison['Calculated_Profit'] = comparison['Sales'] - comparison['COGS']\n",
    "comparison['Profit_Difference'] = comparison['Profit'] - comparison['Calculated_Profit']\n",
    "\n",
    "print(comparison)"
   ]
  },
  {
   "cell_type": "code",
   "execution_count": 63,
   "id": "92849378-7355-4f0e-9f6d-fe748347db64",
   "metadata": {},
   "outputs": [
    {
     "name": "stdout",
     "output_type": "stream",
     "text": [
      "Rows with missing Discounts:\n",
      "      Segment      Product Discount Band  Discounts    Sales\n",
      "0  Government   Carretera          None         NaN  32370.0\n",
      "1  Government   Carretera          None         NaN  26420.0\n",
      "2   Midmarket   Carretera          None         NaN  32670.0\n",
      "3   Midmarket   Carretera          None         NaN  13320.0\n",
      "4   Midmarket   Carretera          None         NaN  37050.0\n",
      "\n",
      "Rows with missing Profit:\n",
      "        Sales      COGS  Profit\n",
      "187  136560.0  136560.0     NaN\n",
      "189   95400.0   95400.0     NaN\n",
      "193  358560.0  358560.0     NaN\n",
      "200  136560.0  136560.0     NaN\n",
      "209  128880.0  128880.0     NaN\n"
     ]
    }
   ],
   "source": [
    "# Looking at rows with missing Discounts\n",
    "print(\"Rows with missing Discounts:\")\n",
    "print(df[df['Discounts'].isnull()][['Segment', 'Product', 'Discount Band', 'Discounts', 'Sales']].head())\n",
    "\n",
    "# Looking at rows with missing Profit\n",
    "print(\"\\nRows with missing Profit:\")\n",
    "print(df[df['Profit'].isnull()][['Sales', 'COGS', 'Profit']].head())"
   ]
  },
  {
   "cell_type": "code",
   "execution_count": 64,
   "id": "0b2f511f-7d92-4b61-ba1e-0db69c788ecb",
   "metadata": {},
   "outputs": [
    {
     "name": "stdout",
     "output_type": "stream",
     "text": [
      "Segment                0\n",
      "Country                0\n",
      "Product                0\n",
      "Discount Band          0\n",
      "Units Sold             0\n",
      "Manufacturing Price    0\n",
      "Sale Price             0\n",
      "Gross Sales            0\n",
      "Discounts              0\n",
      "Sales                  0\n",
      "COGS                   0\n",
      "Profit                 0\n",
      "Date                   0\n",
      "Month Number           0\n",
      "Month Name             0\n",
      "Year                   0\n",
      "dtype: int64\n",
      "Sales calculation check: True\n",
      "Profit calculation check: True\n"
     ]
    }
   ],
   "source": [
    "# Filling with 0 when Discount Band is \"None\"\n",
    "df['Discounts'] = df['Discounts'].fillna(0)\n",
    "\n",
    "# Calculating from Sales - COGS (they are break-even transactions)\n",
    "df['Profit'] = df['Profit'].fillna(df['Sales'] - df['COGS'])\n",
    "\n",
    "print(df.isnull().sum())\n",
    "\n",
    "# Verifying business logic now works or not\n",
    "print(\"Sales calculation check:\", \n",
    "      np.isclose(df['Sales'], df['Gross Sales'] - df['Discounts']).all())\n",
    "print(\"Profit calculation check:\", \n",
    "      np.isclose(df['Profit'], df['Sales'] - df['COGS']).all())"
   ]
  },
  {
   "cell_type": "code",
   "execution_count": 65,
   "id": "d370153d-e27e-4273-bb29-da470a058503",
   "metadata": {},
   "outputs": [
    {
     "name": "stdout",
     "output_type": "stream",
     "text": [
      "Cleaned data saved\n"
     ]
    }
   ],
   "source": [
    "df.to_csv('../data/processed/processed.csv', index=False)\n",
    "print(\"Cleaned data saved\")"
   ]
  },
  {
   "cell_type": "code",
   "execution_count": null,
   "id": "e1f23929-3eae-4970-939d-ce9c5a6650e5",
   "metadata": {},
   "outputs": [],
   "source": []
  }
 ],
 "metadata": {
  "kernelspec": {
   "display_name": "Python 3 (ipykernel)",
   "language": "python",
   "name": "python3"
  },
  "language_info": {
   "codemirror_mode": {
    "name": "ipython",
    "version": 3
   },
   "file_extension": ".py",
   "mimetype": "text/x-python",
   "name": "python",
   "nbconvert_exporter": "python",
   "pygments_lexer": "ipython3",
   "version": "3.12.9"
  }
 },
 "nbformat": 4,
 "nbformat_minor": 5
}
